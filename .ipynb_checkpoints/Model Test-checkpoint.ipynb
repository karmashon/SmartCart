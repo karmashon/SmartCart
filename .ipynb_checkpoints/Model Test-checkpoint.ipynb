{
 "cells": [
  {
   "cell_type": "code",
   "execution_count": null,
   "id": "bea351d5-8a98-4f28-ad87-8e68d33fc851",
   "metadata": {},
   "outputs": [],
   "source": [
    "import tensorflow as tf\n",
    "import os\n",
    "import cv2\n",
    "import matplotlib.pyplot as plt\n",
    "import numpy as np\n",
    "import random"
   ]
  },
  {
   "cell_type": "code",
   "execution_count": null,
   "id": "9c9c380d-6965-42a1-8806-765ea02a3d68",
   "metadata": {},
   "outputs": [],
   "source": [
    "# Function to take photo\n",
    "def takePhoto(fileName):\n",
    "    camera = cv2.VideoCapture(0)\n",
    "    if not camera.isOpened():\n",
    "        return False\n",
    "    \n",
    "    while True:\n",
    "        status, image = camera.read()\n",
    "        cv2.\n",
    "        if status == False:\n",
    "            camera.release()\n",
    "            return False\n",
    "            \n",
    "        keyPressed = cv2.waitKey(1)\n",
    "        if keyPressed>-1:\n",
    "            cv2.imwrite(fileName,image)\n",
    "            break\n",
    "\n",
    "    #cv2.imshow(\"Window\",image)\n",
    "    camera.release()\n",
    "    \n",
    "    cv2.destroyAllWindows()\n",
    "    return fileName\n",
    "    \n",
    "def getImage():\n",
    "    dataSet = os.listdir(\"Data Set\")\n",
    "    #print(len(dataSet))\n",
    "    category = dataSet[random.randint(0,len(dataSet)-1)]\n",
    "    images = os.listdir(os.path.join(\"Data Set/\"+category))\n",
    "    return \"Data Set/\"+category+\"/\"+images[random.randint(0,len(images))]"
   ]
  },
  {
   "cell_type": "code",
   "execution_count": null,
   "id": "5703ea6e-a5c2-4d9b-b875-7459f9d294c8",
   "metadata": {},
   "outputs": [],
   "source": [
    "model = tf.keras.models.load_model(\"./model.keras\")"
   ]
  },
  {
   "cell_type": "code",
   "execution_count": null,
   "id": "22952199-0344-4c7d-9d2b-cf1c2215daa8",
   "metadata": {},
   "outputs": [],
   "source": [
    "#print(getImage())\n",
    "fileName = \"inputImg.jpg\"\n",
    "takePhoto(fileName)\n",
    "inputImage = cv2.cvtColor(cv2.imread(fileName),cv2.COLOR_BGR2RGB)\n",
    "di = {0 : (\"Apple\",25), 1 : (\"Banana\",10), 2 : (\"Book\",75), 3 : (\"Bottle\",150), \n",
    "      4: (\"Horlicks\",80), 5: (\"Pen\",5)}\n",
    "\n",
    "x = 0\n",
    "image = cv2.resize(inputImage, (256,256)).reshape(1,256,256,3)\n",
    "#cv2.imshow(\"New image\", inputImage)\n",
    "print(plt.imshow(inputImage))\n",
    "res  = model.predict(image, batch_size=1)\n",
    "maxIndex = 0\n",
    "print(res)\n",
    "for i in range(len(res[0])):\n",
    "  if res[0][i]>res[0][maxIndex]:\n",
    "    maxIndex = i\n",
    "\n",
    "\n",
    "print(di[maxIndex][0],\" : Rs.\",di[maxIndex][1])"
   ]
  },
  {
   "cell_type": "code",
   "execution_count": null,
   "id": "052dbc8c-190f-4b5c-ad3c-12db1477d493",
   "metadata": {
    "editable": true,
    "slideshow": {
     "slide_type": ""
    },
    "tags": []
   },
   "outputs": [],
   "source": []
  },
  {
   "cell_type": "code",
   "execution_count": null,
   "id": "8c052036-592c-49b4-b3f0-1158a357712f",
   "metadata": {},
   "outputs": [],
   "source": []
  }
 ],
 "metadata": {
  "kernelspec": {
   "display_name": "Python 3 (ipykernel)",
   "language": "python",
   "name": "python3"
  },
  "language_info": {
   "codemirror_mode": {
    "name": "ipython",
    "version": 3
   },
   "file_extension": ".py",
   "mimetype": "text/x-python",
   "name": "python",
   "nbconvert_exporter": "python",
   "pygments_lexer": "ipython3",
   "version": "3.11.4"
  }
 },
 "nbformat": 4,
 "nbformat_minor": 5
}
